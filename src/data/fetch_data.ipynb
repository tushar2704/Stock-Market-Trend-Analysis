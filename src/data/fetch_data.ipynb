{
 "cells": [
  {
   "cell_type": "markdown",
   "metadata": {},
   "source": [
    "# Netflix Stock Price Trend Analysis Project\n",
    "### Author github.com/tushar2704"
   ]
  },
  {
   "cell_type": "markdown",
   "metadata": {},
   "source": [
    "# Fetching data from yfinance"
   ]
  },
  {
   "cell_type": "code",
   "execution_count": 1,
   "metadata": {},
   "outputs": [
    {
     "name": "stdout",
     "output_type": "stream",
     "text": [
      "Collecting yfinance\n",
      "  Downloading yfinance-0.2.27-py2.py3-none-any.whl (63 kB)\n",
      "     ---------------------------------------- 0.0/63.2 kB ? eta -:--:--\n",
      "     ------------------------ ------------- 41.0/63.2 kB 960.0 kB/s eta 0:00:01\n",
      "     ---------------------------------------- 63.2/63.2 kB 1.1 MB/s eta 0:00:00\n",
      "Requirement already satisfied: pandas>=1.3.0 in d:\\local\\venv-11\\lib\\site-packages (from yfinance) (2.0.1)\n",
      "Requirement already satisfied: numpy>=1.16.5 in d:\\local\\venv-11\\lib\\site-packages (from yfinance) (1.24.3)\n",
      "Requirement already satisfied: requests>=2.31 in d:\\local\\venv-11\\lib\\site-packages (from yfinance) (2.31.0)\n",
      "Collecting multitasking>=0.0.7\n",
      "  Downloading multitasking-0.0.11-py3-none-any.whl (8.5 kB)\n",
      "Collecting lxml>=4.9.1\n",
      "  Downloading lxml-4.9.3-cp311-cp311-win_amd64.whl (3.8 MB)\n",
      "     ---------------------------------------- 0.0/3.8 MB ? eta -:--:--\n",
      "     ---------------------------------------- 0.0/3.8 MB 1.9 MB/s eta 0:00:02\n",
      "      --------------------------------------- 0.1/3.8 MB 1.1 MB/s eta 0:00:04\n",
      "     -- ------------------------------------- 0.2/3.8 MB 1.8 MB/s eta 0:00:03\n",
      "     --- ------------------------------------ 0.3/3.8 MB 1.9 MB/s eta 0:00:02\n",
      "     ---- ----------------------------------- 0.4/3.8 MB 2.0 MB/s eta 0:00:02\n",
      "     ----- ---------------------------------- 0.5/3.8 MB 2.0 MB/s eta 0:00:02\n",
      "     ------ --------------------------------- 0.6/3.8 MB 2.1 MB/s eta 0:00:02\n",
      "     ------ --------------------------------- 0.6/3.8 MB 2.0 MB/s eta 0:00:02\n",
      "     ------- -------------------------------- 0.7/3.8 MB 1.9 MB/s eta 0:00:02\n",
      "     -------- ------------------------------- 0.8/3.8 MB 1.8 MB/s eta 0:00:02\n",
      "     --------- ------------------------------ 0.9/3.8 MB 1.9 MB/s eta 0:00:02\n",
      "     --------- ------------------------------ 0.9/3.8 MB 1.9 MB/s eta 0:00:02\n",
      "     ----------- ---------------------------- 1.1/3.8 MB 1.9 MB/s eta 0:00:02\n",
      "     ------------ --------------------------- 1.2/3.8 MB 2.0 MB/s eta 0:00:02\n",
      "     ------------- -------------------------- 1.3/3.8 MB 2.0 MB/s eta 0:00:02\n",
      "     -------------- ------------------------- 1.4/3.8 MB 2.0 MB/s eta 0:00:02\n",
      "     --------------- ------------------------ 1.5/3.8 MB 2.0 MB/s eta 0:00:02\n",
      "     ---------------- ----------------------- 1.6/3.8 MB 2.1 MB/s eta 0:00:02\n",
      "     ------------------ --------------------- 1.7/3.8 MB 2.0 MB/s eta 0:00:02\n",
      "     ------------------- -------------------- 1.8/3.8 MB 2.1 MB/s eta 0:00:01\n",
      "     -------------------- ------------------- 1.9/3.8 MB 2.1 MB/s eta 0:00:01\n",
      "     --------------------- ------------------ 2.0/3.8 MB 2.0 MB/s eta 0:00:01\n",
      "     --------------------- ------------------ 2.1/3.8 MB 2.1 MB/s eta 0:00:01\n",
      "     ----------------------- ---------------- 2.2/3.8 MB 2.1 MB/s eta 0:00:01\n",
      "     ------------------------ --------------- 2.3/3.8 MB 2.0 MB/s eta 0:00:01\n",
      "     ------------------------ --------------- 2.4/3.8 MB 2.1 MB/s eta 0:00:01\n",
      "     -------------------------- ------------- 2.5/3.8 MB 2.1 MB/s eta 0:00:01\n",
      "     --------------------------- ------------ 2.6/3.8 MB 2.1 MB/s eta 0:00:01\n",
      "     ---------------------------- ----------- 2.7/3.8 MB 2.1 MB/s eta 0:00:01\n",
      "     ----------------------------- ---------- 2.8/3.8 MB 2.1 MB/s eta 0:00:01\n",
      "     ------------------------------- -------- 3.0/3.8 MB 2.2 MB/s eta 0:00:01\n",
      "     -------------------------------- ------- 3.1/3.8 MB 2.2 MB/s eta 0:00:01\n",
      "     --------------------------------- ------ 3.2/3.8 MB 2.2 MB/s eta 0:00:01\n",
      "     ----------------------------------- ---- 3.3/3.8 MB 2.2 MB/s eta 0:00:01\n",
      "     ------------------------------------ --- 3.4/3.8 MB 2.2 MB/s eta 0:00:01\n",
      "     ------------------------------------- -- 3.6/3.8 MB 2.2 MB/s eta 0:00:01\n",
      "     ---------------------------------------  3.7/3.8 MB 2.2 MB/s eta 0:00:01\n",
      "     ---------------------------------------- 3.8/3.8 MB 2.2 MB/s eta 0:00:00\n",
      "Collecting appdirs>=1.4.4\n",
      "  Downloading appdirs-1.4.4-py2.py3-none-any.whl (9.6 kB)\n",
      "Requirement already satisfied: pytz>=2022.5 in d:\\local\\venv-11\\lib\\site-packages (from yfinance) (2023.3)\n",
      "Collecting frozendict>=2.3.4\n",
      "  Downloading frozendict-2.3.8-py311-none-any.whl (14 kB)\n",
      "Requirement already satisfied: beautifulsoup4>=4.11.1 in d:\\local\\venv-11\\lib\\site-packages (from yfinance) (4.12.2)\n",
      "Collecting html5lib>=1.1\n",
      "  Downloading html5lib-1.1-py2.py3-none-any.whl (112 kB)\n",
      "     ---------------------------------------- 0.0/112.2 kB ? eta -:--:--\n",
      "     -------------------------------------- 112.2/112.2 kB 3.3 MB/s eta 0:00:00\n",
      "Requirement already satisfied: soupsieve>1.2 in d:\\local\\venv-11\\lib\\site-packages (from beautifulsoup4>=4.11.1->yfinance) (2.4.1)\n",
      "Requirement already satisfied: six>=1.9 in c:\\users\\tusha\\appdata\\roaming\\python\\python311\\site-packages (from html5lib>=1.1->yfinance) (1.16.0)\n",
      "Collecting webencodings\n",
      "  Downloading webencodings-0.5.1-py2.py3-none-any.whl (11 kB)\n",
      "Requirement already satisfied: python-dateutil>=2.8.2 in c:\\users\\tusha\\appdata\\roaming\\python\\python311\\site-packages (from pandas>=1.3.0->yfinance) (2.8.2)\n",
      "Requirement already satisfied: tzdata>=2022.1 in d:\\local\\venv-11\\lib\\site-packages (from pandas>=1.3.0->yfinance) (2023.3)\n",
      "Requirement already satisfied: charset-normalizer<4,>=2 in d:\\local\\venv-11\\lib\\site-packages (from requests>=2.31->yfinance) (3.1.0)\n",
      "Requirement already satisfied: idna<4,>=2.5 in d:\\local\\venv-11\\lib\\site-packages (from requests>=2.31->yfinance) (3.4)\n",
      "Requirement already satisfied: urllib3<3,>=1.21.1 in d:\\local\\venv-11\\lib\\site-packages (from requests>=2.31->yfinance) (2.0.2)\n",
      "Requirement already satisfied: certifi>=2017.4.17 in d:\\local\\venv-11\\lib\\site-packages (from requests>=2.31->yfinance) (2023.5.7)\n",
      "Installing collected packages: webencodings, multitasking, appdirs, lxml, html5lib, frozendict, yfinance\n",
      "Successfully installed appdirs-1.4.4 frozendict-2.3.8 html5lib-1.1 lxml-4.9.3 multitasking-0.0.11 webencodings-0.5.1 yfinance-0.2.27\n"
     ]
    }
   ],
   "source": [
    "!pip install yfinance\n"
   ]
  },
  {
   "cell_type": "code",
   "execution_count": 2,
   "metadata": {},
   "outputs": [],
   "source": [
    "import yfinance as yf\n",
    "\n",
    "# Define the stock symbol (ticker)\n",
    "stock_symbol = \"NFLX\"\n",
    "\n"
   ]
  },
  {
   "cell_type": "code",
   "execution_count": 5,
   "metadata": {},
   "outputs": [
    {
     "name": "stdout",
     "output_type": "stream",
     "text": [
      "                                 Open        High         Low       Close   \n",
      "Date                                                                        \n",
      "2018-08-13 00:00:00-04:00  339.890015  347.190002  339.070007  341.309998  \\\n",
      "2018-08-14 00:00:00-04:00  342.089996  342.410004  336.250000  337.489990   \n",
      "2018-08-15 00:00:00-04:00  334.029999  335.500000  321.000000  326.399994   \n",
      "2018-08-16 00:00:00-04:00  329.899994  331.170013  321.209991  322.440002   \n",
      "2018-08-17 00:00:00-04:00  319.010010  324.369995  312.959991  316.779999   \n",
      "...                               ...         ...         ...         ...   \n",
      "2023-08-07 00:00:00-04:00  436.459991  441.109985  428.910004  440.760010   \n",
      "2023-08-08 00:00:00-04:00  440.359985  443.570007  435.100006  438.299988   \n",
      "2023-08-09 00:00:00-04:00  439.739990  440.619995  427.589996  428.899994   \n",
      "2023-08-10 00:00:00-04:00  431.119995  438.119995  428.690002  429.980011   \n",
      "2023-08-11 00:00:00-04:00  428.980011  430.630005  421.329987  421.660004   \n",
      "\n",
      "                             Volume  Dividends  Stock Splits  \n",
      "Date                                                          \n",
      "2018-08-13 00:00:00-04:00   6888900        0.0           0.0  \n",
      "2018-08-14 00:00:00-04:00   5805200        0.0           0.0  \n",
      "2018-08-15 00:00:00-04:00  11784500        0.0           0.0  \n",
      "2018-08-16 00:00:00-04:00   6689700        0.0           0.0  \n",
      "2018-08-17 00:00:00-04:00  10407900        0.0           0.0  \n",
      "...                             ...        ...           ...  \n",
      "2023-08-07 00:00:00-04:00   4781300        0.0           0.0  \n",
      "2023-08-08 00:00:00-04:00   3767200        0.0           0.0  \n",
      "2023-08-09 00:00:00-04:00   3846600        0.0           0.0  \n",
      "2023-08-10 00:00:00-04:00   5467600        0.0           0.0  \n",
      "2023-08-11 00:00:00-04:00   3925200        0.0           0.0  \n",
      "\n",
      "[1258 rows x 7 columns]\n"
     ]
    }
   ],
   "source": [
    "# Fetch historical stock data using yfinance\n",
    "netflix_stock = yf.Ticker(stock_symbol)\n",
    "\n",
    "# Get historical stock prices\n",
    "historical_data = netflix_stock.history(period=\"5y\")\n",
    "\n",
    "# Display the historical data\n",
    "print(historical_data)\n"
   ]
  },
  {
   "cell_type": "markdown",
   "metadata": {},
   "source": [
    "### Saving the 5y Netflix stock price"
   ]
  },
  {
   "cell_type": "code",
   "execution_count": 6,
   "metadata": {},
   "outputs": [
    {
     "name": "stdout",
     "output_type": "stream",
     "text": [
      "Data saved to netflix_stock_5y.csv\n"
     ]
    }
   ],
   "source": [
    "# Save the historical data to a CSV file\n",
    "csv_filename = \"netflix_stock_5y.csv\"\n",
    "historical_data.to_csv(csv_filename)\n",
    "\n",
    "print(f\"Data saved to {csv_filename}\")"
   ]
  }
 ],
 "metadata": {
  "kernelspec": {
   "display_name": "Python 3",
   "language": "python",
   "name": "python3"
  },
  "language_info": {
   "codemirror_mode": {
    "name": "ipython",
    "version": 3
   },
   "file_extension": ".py",
   "mimetype": "text/x-python",
   "name": "python",
   "nbconvert_exporter": "python",
   "pygments_lexer": "ipython3",
   "version": "3.11.0"
  },
  "orig_nbformat": 4
 },
 "nbformat": 4,
 "nbformat_minor": 2
}
